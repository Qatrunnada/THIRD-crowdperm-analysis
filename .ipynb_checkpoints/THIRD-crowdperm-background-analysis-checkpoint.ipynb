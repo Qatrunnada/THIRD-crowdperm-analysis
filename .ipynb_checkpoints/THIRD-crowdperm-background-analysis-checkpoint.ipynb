{
 "cells": [
  {
   "cell_type": "raw",
   "metadata": {},
   "source": [
    "<script>\n",
    "  jQuery(document).ready(function($) {  \n",
    "  \n",
    "  $(window).on('load', function(){\n",
    "    $('#preloader').fadeOut('slow',function(){$(this).remove();});\n",
    "  });\n",
    "  \n",
    "  });\n",
    "</script>\n",
    "\n",
    "<style type=\"text/css\">\n",
    "  div#preloader { position: fixed; \n",
    "      left: 0; \n",
    "      top: 0; \n",
    "      z-index: 999; \n",
    "      width: 100%; \n",
    "      height: 100%; \n",
    "      overflow: visible; \n",
    "      background: #fff url('http://preloaders.net/preloaders/720/Moving%20line.gif') no-repeat center center; \n",
    "  }\n",
    "\n",
    "</style>\n",
    "\n",
    "<div id=\"preloader\">\n",
    "\n",
    "</div>"
   ]
  },
  {
   "cell_type": "raw",
   "metadata": {},
   "source": [
    "<script>\n",
    "  function code_toggle() {\n",
    "    if (code_shown){\n",
    "      $('div.input').hide('500');\n",
    "      $('#toggleButton').val('Show Code')\n",
    "    } else {\n",
    "      $('div.input').show('500');\n",
    "      $('#toggleButton').val('Hide Code')\n",
    "    }\n",
    "    code_shown = !code_shown\n",
    "  } \n",
    "  \n",
    "  $( document ).ready(function(){\n",
    "    code_shown=false; \n",
    "    $('div.input').hide()\n",
    "  });\n",
    "</script>\n",
    "<form action=\"javascript:code_toggle()\"><input type=\"submit\" id=\"toggleButton\" value=\"Show Code\"></form>"
   ]
  },
  {
   "cell_type": "markdown",
   "metadata": {},
   "source": [
    "# Analyzing background data\n",
    "This file is for analyzing the background data:\n",
    "- app names\n",
    "- requested permissions \n",
    "- granted permissions\n",
    "- app type (user or system)\n",
    "- target SDK\n",
    "- usage time (optional-not all participants)\n",
    "<div class=\"alert alert-block alert-warning\">**In the DB connection (first cell) specifiy the path for your LOCAL file with two lines , first line for user name, and second line for password.** </div>"
   ]
  },
  {
   "cell_type": "code",
   "execution_count": 1,
   "metadata": {
    "collapsed": true
   },
   "outputs": [],
   "source": [
    "#data base connection\n",
    "import csv\n",
    "import pandas\n",
    "from sshtunnel import SSHTunnelForwarder\n",
    "import pymysql\n",
    "\n",
    "#specifiy the path for your file\n",
    "with open('/Users/QN/Desktop/THIRD crowdperm/user.txt') as f:\n",
    "    lines = f.read().splitlines()    \n",
    "f.close()\n",
    "\n",
    "\n",
    "server =    SSHTunnelForwarder(\n",
    "         ('juhu.soic.indiana.edu'),\n",
    "         ssh_username=lines[0],\n",
    "         ssh_password=lines[1],\n",
    "         remote_bind_address=('127.0.0.1', 3306))\n",
    "server.start()\n",
    "cnx = pymysql.connect(host='127.0.0.1',\n",
    "                           port=server.local_bind_port,\n",
    "                           user='mturk',\n",
    "                           passwd='m+turk=my-sql',\n",
    "                           db='mturk')\n",
    "cnx.set_charset('utf8')  \n",
    "cursor = cnx.cursor()"
   ]
  },
  {
   "cell_type": "markdown",
   "metadata": {},
   "source": [
    "### Usage time analysis:\n",
    "\n",
    "test the hypothesis \"Most frequently used apps are less restricted\"\n",
    "In other words: the higher the usage time, the higher the number of granted permissions\"\n",
    "\n"
   ]
  },
  {
   "cell_type": "code",
   "execution_count": 2,
   "metadata": {
    "collapsed": true
   },
   "outputs": [],
   "source": [
    "#prepare usage time data\n",
    "\n",
    "\n",
    "query = (\"select a.* , b.`usagetime` from permissions a , usageTime b where a.`TurkerID`=b.`TurkerID` and a.`appName`=b.`appName` order by b.TurkerID, b.usageTime\")\n",
    "\n",
    "cursor.execute(query)\n",
    "\n",
    "with open('out.csv','w') as out:\n",
    "    myFields = ['TurkerID', 'randomint', 'appName', 'appType', 'targetSDK', 'requestedPerms', 'grantedPerms', 'usagetime','number of permissions requested','number of permissions granted']\n",
    "    writer = csv.DictWriter(out, fieldnames=myFields)\n",
    "    writer.writeheader()\n",
    "    for row in cursor:\n",
    "        rPerm = row[6].strip('[]')\n",
    "        gPerm = row[7].strip('[]')\n",
    "        writer.writerow({'TurkerID':row[1], 'randomint':row[2], 'appName':row[3], 'appType':row[4], 'targetSDK':row[5], 'requestedPerms':row[6], 'grantedPerms':row[7], 'usagetime':row[8],'number of permissions requested':len(rPerm.split()),'number of permissions granted':len(gPerm.split())})\n",
    "\n",
    "\n",
    "\n",
    "        \n",
    "        \n",
    "dfUsage = pandas.read_csv('out.csv',sep=',')\n",
    "        \n",
    "cursor.close()\n",
    "#cnx.close()"
   ]
  },
  {
   "cell_type": "code",
   "execution_count": 3,
   "metadata": {
    "scrolled": true
   },
   "outputs": [
    {
     "data": {
      "text/html": [
       "<div>\n",
       "<style>\n",
       "    .dataframe thead tr:only-child th {\n",
       "        text-align: right;\n",
       "    }\n",
       "\n",
       "    .dataframe thead th {\n",
       "        text-align: left;\n",
       "    }\n",
       "\n",
       "    .dataframe tbody tr th {\n",
       "        vertical-align: top;\n",
       "    }\n",
       "</style>\n",
       "<table border=\"1\" class=\"dataframe\">\n",
       "  <thead>\n",
       "    <tr style=\"text-align: right;\">\n",
       "      <th></th>\n",
       "      <th>TurkerID</th>\n",
       "      <th>randomint</th>\n",
       "      <th>appName</th>\n",
       "      <th>appType</th>\n",
       "      <th>targetSDK</th>\n",
       "      <th>requestedPerms</th>\n",
       "      <th>grantedPerms</th>\n",
       "      <th>usagetime</th>\n",
       "      <th>number of permissions requested</th>\n",
       "      <th>number of permissions granted</th>\n",
       "    </tr>\n",
       "  </thead>\n",
       "  <tbody>\n",
       "    <tr>\n",
       "      <th>0</th>\n",
       "      <td>A002160837SWJFPIAI7L</td>\n",
       "      <td>87492</td>\n",
       "      <td>My Files</td>\n",
       "      <td>system</td>\n",
       "      <td>24</td>\n",
       "      <td>[STORAGE]</td>\n",
       "      <td>[STORAGE]</td>\n",
       "      <td>1</td>\n",
       "      <td>1</td>\n",
       "      <td>1</td>\n",
       "    </tr>\n",
       "    <tr>\n",
       "      <th>1</th>\n",
       "      <td>A002160837SWJFPIAI7L</td>\n",
       "      <td>87492</td>\n",
       "      <td>Apps Survey</td>\n",
       "      <td>user</td>\n",
       "      <td>23</td>\n",
       "      <td>[]</td>\n",
       "      <td>[]</td>\n",
       "      <td>2</td>\n",
       "      <td>0</td>\n",
       "      <td>0</td>\n",
       "    </tr>\n",
       "    <tr>\n",
       "      <th>2</th>\n",
       "      <td>A002160837SWJFPIAI7L</td>\n",
       "      <td>87492</td>\n",
       "      <td>Google Play Music</td>\n",
       "      <td>system</td>\n",
       "      <td>26</td>\n",
       "      <td>[LOCATION, STORAGE, CONTACTS]</td>\n",
       "      <td>[STORAGE]</td>\n",
       "      <td>3</td>\n",
       "      <td>3</td>\n",
       "      <td>1</td>\n",
       "    </tr>\n",
       "    <tr>\n",
       "      <th>3</th>\n",
       "      <td>A002160837SWJFPIAI7L</td>\n",
       "      <td>87492</td>\n",
       "      <td>Amazon Kindle</td>\n",
       "      <td>system</td>\n",
       "      <td>24</td>\n",
       "      <td>[STORAGE, CONTACTS, PHONE]</td>\n",
       "      <td>[]</td>\n",
       "      <td>5</td>\n",
       "      <td>3</td>\n",
       "      <td>0</td>\n",
       "    </tr>\n",
       "    <tr>\n",
       "      <th>4</th>\n",
       "      <td>A002160837SWJFPIAI7L</td>\n",
       "      <td>87492</td>\n",
       "      <td>UberEATS</td>\n",
       "      <td>user</td>\n",
       "      <td>25</td>\n",
       "      <td>[LOCATION, PHONE, CAMERA, STORAGE, CONTACTS, SMS]</td>\n",
       "      <td>[LOCATION]</td>\n",
       "      <td>7</td>\n",
       "      <td>6</td>\n",
       "      <td>1</td>\n",
       "    </tr>\n",
       "  </tbody>\n",
       "</table>\n",
       "</div>"
      ],
      "text/plain": [
       "               TurkerID  randomint            appName appType  targetSDK  \\\n",
       "0  A002160837SWJFPIAI7L      87492           My Files  system         24   \n",
       "1  A002160837SWJFPIAI7L      87492        Apps Survey    user         23   \n",
       "2  A002160837SWJFPIAI7L      87492  Google Play Music  system         26   \n",
       "3  A002160837SWJFPIAI7L      87492      Amazon Kindle  system         24   \n",
       "4  A002160837SWJFPIAI7L      87492           UberEATS    user         25   \n",
       "\n",
       "                                      requestedPerms grantedPerms  usagetime  \\\n",
       "0                                          [STORAGE]    [STORAGE]          1   \n",
       "1                                                 []           []          2   \n",
       "2                      [LOCATION, STORAGE, CONTACTS]    [STORAGE]          3   \n",
       "3                         [STORAGE, CONTACTS, PHONE]           []          5   \n",
       "4  [LOCATION, PHONE, CAMERA, STORAGE, CONTACTS, SMS]   [LOCATION]          7   \n",
       "\n",
       "   number of permissions requested  number of permissions granted  \n",
       "0                                1                              1  \n",
       "1                                0                              0  \n",
       "2                                3                              1  \n",
       "3                                3                              0  \n",
       "4                                6                              1  "
      ]
     },
     "execution_count": 3,
     "metadata": {},
     "output_type": "execute_result"
    }
   ],
   "source": [
    "dfUsage.head()"
   ]
  },
  {
   "cell_type": "code",
   "execution_count": 4,
   "metadata": {},
   "outputs": [
    {
     "data": {
      "image/png": "[encoded data removed]",
      "text/plain": [
       "<matplotlib.figure.Figure at 0x116fc2898>"
      ]
     },
     "metadata": {},
     "output_type": "display_data"
    }
   ],
   "source": [
    "#test the hypothesis \"Most frequently used apps are less restricted\"\n",
    "#In other words: the higher the usage time, the higher the number of granted permissions\"\n",
    "#stat analysis\n",
    "from scipy import stats\n",
    "from pydoc import help\n",
    "from scipy.stats.stats import pearsonr\n",
    "from scipy.stats.stats import spearmanr\n",
    "import matplotlib.pyplot as plt\n",
    "import numpy as np\n",
    "import matplotlib.pyplot as plt\n",
    "import numpy as np\n",
    "#help(pearsonr)\n",
    "\n",
    "#read usage time file into a dataframe\n",
    "usagedata=dfUsage\n",
    "\n",
    "#try again with another filter\n",
    "#skip the rows with zero requested permissions\n",
    "usagedata=usagedata[usagedata['number of permissions requested'] > 4]\n",
    "x=usagedata['usagetime']\n",
    "y=usagedata['number of permissions granted']/usagedata['number of permissions requested']\n",
    "#spearmanr(x,y)\n",
    "pearsonr(x, y)\n",
    "\n",
    "\n",
    "#plot the usagetime vs. %of granted permissions\n",
    "import matplotlib.pyplot as plt\n",
    "import numpy as np\n",
    "#x=np.log(x)\n",
    "plt.scatter(x/60,y,marker='.')\n",
    "plt.xlabel('usage time')\n",
    "plt.ylabel('% of granted permissions')\n",
    "#plt.xscale('log')\n",
    "#plt.plot(x,y)\n",
    "#plt.plot(y)\n",
    "plt.show()"
   ]
  },
  {
   "cell_type": "code",
   "execution_count": 8,
   "metadata": {},
   "outputs": [
    {
     "data": {
      "text/plain": [
       "SpearmanrResult(correlation=0.083891138494214965, pvalue=3.9409721862268437e-09)"
      ]
     },
     "execution_count": 8,
     "metadata": {},
     "output_type": "execute_result"
    }
   ],
   "source": [
    "pearsonr(x, y)\n",
    "#spearmanr(x,y)"
   ]
  },
  {
   "cell_type": "code",
   "execution_count": 6,
   "metadata": {},
   "outputs": [
    {
     "data": {
      "image/png": "[encoded data removed]",
      "text/plain": [
       "<matplotlib.figure.Figure at 0x111c96c18>"
      ]
     },
     "metadata": {},
     "output_type": "display_data"
    }
   ],
   "source": [
    "plt.xscale('log')\n",
    "plt.scatter(x,y,marker='.')\n",
    "plt.xlabel('usage time')\n",
    "plt.ylabel('% of granted permissions')\n",
    "plt.show()"
   ]
  },
  {
   "cell_type": "code",
   "execution_count": 7,
   "metadata": {
    "collapsed": true
   },
   "outputs": [],
   "source": [
    "#close DB connection\n",
    "cnx.close()"
   ]
  },
  {
   "cell_type": "raw",
   "metadata": {},
   "source": [
    "<script>\n",
    "  $(document).ready(function(){\n",
    "    $('div.prompt').hide();\n",
    "    $('div.back-to-top').hide();\n",
    "    $('nav#menubar').hide();\n",
    "    $('.breadcrumb').hide();\n",
    "    $('.hidden-print').hide();\n",
    "  });\n",
    "</script>\n",
    "\n",
    "<footer id=\"attribution\" style=\"float:right; color:#999; background:#fff;\">\n",
    "Created with Jupyter, delivered by Fastly, rendered by Rackspace.\n",
    "</footer>"
   ]
  }
 ],
 "metadata": {
  "kernelspec": {
   "display_name": "Python 3",
   "language": "python",
   "name": "python3"
  },
  "language_info": {
   "codemirror_mode": {
    "name": "ipython",
    "version": 3
   },
   "file_extension": ".py",
   "mimetype": "text/x-python",
   "name": "python",
   "nbconvert_exporter": "python",
   "pygments_lexer": "ipython3",
   "version": "3.6.3"
  }
 },
 "nbformat": 4,
 "nbformat_minor": 2
}
