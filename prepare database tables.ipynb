{
 "cells": [
  {
   "cell_type": "markdown",
   "metadata": {},
   "source": [
    "# Database table preperation code\n",
    "This code needs to be run only once.\n",
    "If you add more data, go to the database trucncate the tables (survey2 and permissions) before running this code again.\n",
    "\n",
    "<div class=\"alert alert-block alert-warning\">**In the DB connection (first cell) specifiy the path for your file with two lines , first line for user name, and second line for password.** </div>"
   ]
  },
  {
   "cell_type": "code",
   "execution_count": null,
   "metadata": {
    "collapsed": true
   },
   "outputs": [],
   "source": [
    "#data base connection\n",
    "import csv\n",
    "import pandas\n",
    "from sshtunnel import SSHTunnelForwarder\n",
    "import pymysql\n",
    "\n",
    "#specifiy the path for your file\n",
    "with open('/Users/QN/Desktop/THIRD crowdperm/user.txt') as f:\n",
    "    lines = f.read().splitlines()    \n",
    "f.close()\n",
    "\n",
    "\n",
    "server =    SSHTunnelForwarder(\n",
    "         ('juhu.soic.indiana.edu'),\n",
    "         ssh_username=lines[0],\n",
    "         ssh_password=lines[1],\n",
    "         remote_bind_address=('127.0.0.1', 3306))\n",
    "server.start()\n",
    "cnx = pymysql.connect(host='127.0.0.1',\n",
    "                           port=server.local_bind_port,\n",
    "                           user='mturk',\n",
    "                           passwd='m+turk=my-sql',\n",
    "                           db='mturk')\n",
    "cnx.set_charset('utf8')       "
   ]
  },
  {
   "cell_type": "code",
   "execution_count": null,
   "metadata": {
    "collapsed": true
   },
   "outputs": [],
   "source": [
    "#prepare survey2 table:\n",
    "#prepare survey2 file\n",
    "#write a code to split the column from table app2\n",
    "#insert the splitted value to survey2 , with the names of the apps as “N/A”\n",
    "#add the names of the apps to the table too\n",
    "#allEnabledAppName, allDisabledAppName,PERMISSIONenabled,PERMISSIONdisabled\n",
    "data=[]\n",
    "query1 = (\"select msg,allEnabledAppName, allDisabledAppName,PERMISSIONenabled,PERMISSIONdisabled from apps2\")\n",
    "cursor1=cnx.cursor()\n",
    "cursor1.execute(query1)\n",
    "for row in cursor1:\n",
    "    \n",
    "    #print (row[0])\n",
    "    #print(row[1])#allEnabled\n",
    "    #print(row[2])#allDisabled\n",
    "    #print(row[3])#enabled\n",
    "    #print(row[4])#disabled\n",
    "    allEnabled=row[1]\n",
    "    allDisabled=row[2]\n",
    "    enabledApps=['','','','','']\n",
    "    disabledApps=['','','','','']\n",
    "    \n",
    "    #split the list of apps for enabled and disabled, and if fewer than 5 apps, fill the rest with empty strings\n",
    "    enabledApps = row[3].split(\",\") #split string into a list\n",
    "    disabledApps = row[4].split(\",\") #split string into a list\n",
    "    \n",
    "    if len(enabledApps) <5:\n",
    "        j=len(enabledApps)\n",
    "        while j < 5:\n",
    "            enabledApps.append('')\n",
    "            j=j+1  \n",
    "\n",
    "    if len(disabledApps) <5:\n",
    "        j=len(disabledApps)\n",
    "        while j < 5:\n",
    "            disabledApps.append('')\n",
    "            j=j+1  \n",
    "    \n",
    "    print (len(disabledApps))\n",
    "    print (len(enabledApps))\n",
    "    #print (\"\\n\")\n",
    "    msg = row[0].split(\"#\") #split string into a list\n",
    "\n",
    "\n",
    "    #escape the quotes\n",
    "    i=0\n",
    "    while i < len(msg):\n",
    "        msg[i]=msg[i].replace(\"'\", \"\\\\\\'\")\n",
    "        msg[i]=msg[i].replace(\"\\\\\\\\'\", \"\\\\\\'\")\n",
    "        i=i+1 \n",
    "   \n",
    "    #deal with the situation when there are only msg length =58 (before adding the follow up question for the story)\n",
    "    if len(msg)<65:\n",
    "        j=len(msg)\n",
    "        while j < 65 :\n",
    "            msg.append('')\n",
    "            j=j+1  \n",
    "        #move the duration and times to the last 3 columns and fill the previous ones with empty strings\n",
    "        msg[62]=msg[55]#start\n",
    "        msg[63]=msg[56]#end\n",
    "        msg[64]=msg[57]#duration\n",
    "        msg[55]=''\n",
    "        msg[56]=''\n",
    "        msg[57]=''\n",
    "        msg[58]=''\n",
    "        msg[59]=''\n",
    "        msg[60]=''\n",
    "        msg[61]=''\n",
    "\n",
    "    len(msg)\n",
    "    print (len(msg))\n",
    "    print(msg)\n",
    "    \n",
    "    data.append(msg)\n",
    "    cursor3 = cnx.cursor()\n",
    "    insertQ = \"insert into survey2(randomint,permission,TurkerID,attention1,attention2,attention3,gender,education,race,androidDuration,priorAndroid,canChange,howChange,everChanged,seenMessage,allEnabledAppName,enabledAllaware,enabledAllwhy,allDisabledAppName,disabledAll,PERMISSIONenabled1,PERMISSIONenabled2,PERMISSIONenabled3,PERMISSIONenabled4,PERMISSIONenabled5,comfortableMic,changesettingsMic1,changesettingsissueMic1,problemMic1,changesettingsMic2,changesettingsissueMic2,problemMic2,changesettingsMic3,changesettingsissueMic3,problemMic3,changesettingsMic4,changesettingsissueMic4,problemMic4,changesettingsMic5,changesettingsissueMic5,problemMic5,enabledwhyMic1,enabledwhyMic2,enabledwhyMic3,enabledwhyMic4,enabledwhyMic5,PERMISSIONdisabled1,PERMISSIONdisabled2,PERMISSIONdisabled3,PERMISSIONdisabled4,PERMISSIONdisabled5,disabledawareMic1,disabledwhyMic1,disabledawareMic2,disabledwhyMic2,disabledawareMic3,disabledwhyMic3,disabledawareMic4,disabledwhyMic4,disabledawareMic5,disabledwhyMic5,danger,story,storyPermission,storyApp,storyProblem,storySolve,storyTempEnable,storyEnableComfort,storyBehaviour,storyBehaviourHow,storyReinstall,storyOtherApp,storyUninstallComfort,startTime,endTime,duration) VALUES(%s,%s, %s, %s, %s, %s, %s, %s, %s, %s, %s, %s, %s, %s, %s, %s, %s, %s, %s, %s, %s, %s, %s, %s, %s, %s, %s, %s, %s, %s, %s, %s, %s, %s, %s, %s, %s, %s, %s, %s, %s, %s, %s, %s, %s, %s, %s, %s, %s, %s, %s, %s, %s, %s, %s, %s, %s, %s, %s, %s, %s, %s, %s, %s, %s, %s, %s, %s, %s, %s, %s, %s, %s, %s, %s, %s, %s)\"\n",
    "    number_of_rows = cursor3.execute(insertQ,(msg[0],msg[1],msg[2],msg[3],msg[4],msg[5],msg[6],msg[7],msg[8],msg[9],msg[10],msg[11],msg[12],msg[13],msg[14],allEnabled,msg[15],msg[16],allDisabled,msg[17],enabledApps[0],enabledApps[1],enabledApps[2],enabledApps[3],enabledApps[4],msg[18],msg[19],msg[20], msg[21],msg[22],msg[23],msg[24],msg[25],msg[26],msg[27],msg[28],msg[29],msg[30], msg[31],msg[32],msg[33],msg[34],msg[35],msg[36],msg[37],msg[38],disabledApps[0],disabledApps[1],disabledApps[2],disabledApps[3],disabledApps[4],msg[39],msg[40], msg[41],msg[42],msg[43],msg[44],msg[45],msg[46],msg[47],msg[48],msg[49],msg[50], msg[51],msg[52],msg[53],msg[54],msg[55],msg[56],msg[57],msg[58],msg[59],msg[60], msg[61],msg[62],msg[63],msg[64]))  \n",
    "    cnx.commit()\n",
    "    #msg\n",
    "#cnx.close()"
   ]
  },
  {
   "cell_type": "code",
   "execution_count": null,
   "metadata": {
    "collapsed": true
   },
   "outputs": [],
   "source": [
    "#prepare permissions table\n",
    "#Get the data for the permission table (combine requested and granted in one):\n",
    "#insert into permissions(TurkerID,randomint,appName, appType,targetSDK,requestedPerms,grantedPerms)\n",
    "#select a.`TurkerID`, a.`randomint`, a.`appName`,a.`appType`, a.`targetSDK`, a.`perms`, b.`perms` from requestedPerms a, grantedPerms b where a.`id`=b.`id`\n",
    "permissionsQ = (\"insert into permissions(TurkerID,randomint,appName, appType,targetSDK,requestedPerms,grantedPerms) select a.`TurkerID`, a.`randomint`, a.`appName`,a.`appType`, a.`targetSDK`, a.`perms`, b.`perms` from requestedPerms a, grantedPerms b where a.`id`=b.`id`\")\n",
    "cursor2=cnx.cursor()\n",
    "number_of_rows2=cursor2.execute(permissionsQ)\n",
    "cnx.commit()\n"
   ]
  }
 ],
 "metadata": {
  "kernelspec": {
   "display_name": "Python 3",
   "language": "python",
   "name": "python3"
  },
  "language_info": {
   "codemirror_mode": {
    "name": "ipython",
    "version": 3
   },
   "file_extension": ".py",
   "mimetype": "text/x-python",
   "name": "python",
   "nbconvert_exporter": "python",
   "pygments_lexer": "ipython3",
   "version": "3.6.3"
  }
 },
 "nbformat": 4,
 "nbformat_minor": 2
}
